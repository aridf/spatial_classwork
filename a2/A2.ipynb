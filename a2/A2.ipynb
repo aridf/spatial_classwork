{
 "cells": [
  {
   "cell_type": "code",
   "execution_count": 2,
   "metadata": {},
   "outputs": [
    {
     "name": "stderr",
     "output_type": "stream",
     "text": [
      "Warning message:\n",
      "\"package 'OasisR' was built under R version 3.6.2\"Warning message:\n",
      "\"package 'tidyverse' was built under R version 3.6.2\"-- Attaching packages --------------------------------------- tidyverse 1.3.0 --\n",
      "v ggplot2 3.2.1     v purrr   0.3.3\n",
      "v tibble  2.1.3     v dplyr   0.8.3\n",
      "v tidyr   1.0.2     v stringr 1.4.0\n",
      "v readr   1.3.1     v forcats 0.4.0\n",
      "Warning message:\n",
      "\"package 'ggplot2' was built under R version 3.6.2\"Warning message:\n",
      "\"package 'tibble' was built under R version 3.6.2\"Warning message:\n",
      "\"package 'tidyr' was built under R version 3.6.2\"Warning message:\n",
      "\"package 'purrr' was built under R version 3.6.2\"Warning message:\n",
      "\"package 'dplyr' was built under R version 3.6.2\"-- Conflicts ------------------------------------------ tidyverse_conflicts() --\n",
      "x dplyr::filter() masks stats::filter()\n",
      "x dplyr::lag()    masks stats::lag()\n"
     ]
    }
   ],
   "source": [
    "library(OasisR)\n",
    "library(tidyverse)\n",
    "library(ggplot2)"
   ]
  },
  {
   "cell_type": "code",
   "execution_count": 3,
   "metadata": {},
   "outputs": [],
   "source": [
    "# get cbsa\n",
    "df <- foreign::read.dta('hw02_ltdb_2010.dta')\n",
    "cbsa <- df[which(df$cbsaname == 'San Francisco-Oakland-Fremont, CA CBSA'),]"
   ]
  },
  {
   "cell_type": "markdown",
   "metadata": {},
   "source": [
    "## Question 1"
   ]
  },
  {
   "cell_type": "code",
   "execution_count": 4,
   "metadata": {},
   "outputs": [],
   "source": [
    "# population by sum of race columns \n",
    "tot_pop <- cbsa %>% \n",
    "    select(nwhite, nblack, nhisp, nasian) %>%\n",
    "    sum()\n",
    "\n",
    "# race proportions\n",
    "pr_wh <- sum(cbsa$nwhite) / tot_pop\n",
    "pr_bl <- sum(cbsa$nblack) / tot_pop\n",
    "pr_hp <- sum(cbsa$nhisp) / tot_pop\n",
    "pr_as <- sum(cbsa$nasian) / tot_pop\n",
    "\n",
    "# use custom denominator\n",
    "tot_pov <- sum(cbsa$povyes, cbsa$povno)\n",
    "pr_pov <- sum(cbsa$povyes) / tot_pov\n",
    "\n",
    "# single parenthood rate\n",
    "tot_phood <- cbsa %>% \n",
    "    select(nokids, twoparent, singparent) %>%\n",
    "    sum()\n",
    "pr_singparent <- sum(cbsa$singparent)/tot_phood\n",
    "\n",
    "# 25+ with HS degree\n",
    "# data splits age at 18, not 25\n",
    "tot_18plus <- sum(cbsa$age1859, cbsa$age60up)\n",
    "pr_lowed <- sum(cbsa$edlow) / tot_18plus"
   ]
  },
  {
   "cell_type": "markdown",
   "metadata": {},
   "source": [
    "**Table 1:** San Fransisco Area CBSA Population Characteristics\n",
    "\n",
    "|                    |           |\n",
    "| ------------------ | --------- |\n",
    "| Total Population   | 4,209,664 |\n",
    "|                    |           |\n",
    "| Prop. White        | 0.437     | \n",
    "| Prop. Black        | 0.093     | \n",
    "| Prop. Hispanic     | 0.223     | \n",
    "| Prop. Asian        | 0.246     |\n",
    "|                    |           |\n",
    "| Poverty Rate       | 0.099     |\n",
    "| Single Parent      | 0.088     |\n",
    "| 18+ No HS          | 0.111     |"
   ]
  },
  {
   "cell_type": "code",
   "execution_count": 5,
   "metadata": {},
   "outputs": [],
   "source": [
    "# number of neighbourhoods\n",
    "num_hoods <- length(unique(cbsa$tract))\n",
    "\n",
    "# race proportion neighborhood tract sample characteristics\n",
    "cbsa$race_pop <- (cbsa$nwhite + cbsa$nblack + cbsa$nasian + cbsa$nhisp)\n",
    "\n",
    "cbsa$pr_white <- cbsa$nwhite / cbsa$race_pop\n",
    "cbsa$pr_black <- cbsa$nblack / cbsa$race_pop\n",
    "cbsa$pr_hisp <- cbsa$nhisp / cbsa$race_pop\n",
    "cbsa$pr_asian <- cbsa$nasian / cbsa$race_pop\n",
    "\n",
    "m_pr_white <- mean(cbsa$pr_white, na.rm = TRUE)\n",
    "sd_pr_white <- sd(cbsa$pr_white, na.rm = TRUE)\n",
    "quantiles_pr_white <- quantile(cbsa$pr_white, na.rm = TRUE)\n",
    "\n",
    "m_pr_black <- mean(cbsa$pr_black, na.rm = TRUE)\n",
    "sd_pr_black <- sd(cbsa$pr_black, na.rm = TRUE)\n",
    "quantiles_pr_black <- quantile(cbsa$pr_black, na.rm = TRUE)\n",
    "\n",
    "m_pr_hisp <- mean(cbsa$pr_hisp, na.rm = TRUE)\n",
    "sd_pr_hisp <- sd(cbsa$pr_hisp, na.rm = TRUE)\n",
    "quantiles_pr_hisp <- quantile(cbsa$pr_hisp, na.rm = TRUE)\n",
    "\n",
    "m_pr_as <- mean(cbsa$pr_as, na.rm = TRUE)\n",
    "sd_pr_as <- sd(cbsa$pr_as, na.rm = TRUE)\n",
    "quantiles_pr_as <- quantile(cbsa$pr_as, na.rm = TRUE)\n",
    "\n",
    "# other measures tract-level sample characteristics\n",
    "cbsa$pov_pop <- cbsa$povyes + cbsa$povno\n",
    "cbsa$pr_pov <- cbsa$povyes / cbsa$pov_pop\n",
    "m_pr_pov <- mean(cbsa$pr_pov, na.rm = TRUE)\n",
    "sd_pr_pov <- sd(cbsa$pr_pov, na.rm = TRUE)\n",
    "quantiles_pr_pov <- quantile(cbsa$pr_pov, na.rm = TRUE)\n",
    "\n",
    "cbsa$singpar_pop <- cbsa$singparent + cbsa$nokids + cbsa$twoparent\n",
    "cbsa$pr_singpar <- cbsa$singparent / cbsa$singpar_pop\n",
    "m_pr_singpar <- mean(cbsa$pr_singpar, na.rm = TRUE)\n",
    "sd_pr_singpar <- sd(cbsa$pr_singpar, na.rm = TRUE)\n",
    "quantiles_pr_singpar <- quantile(cbsa$pr_singpar, na.rm = TRUE)\n",
    "\n",
    "cbsa$age_pop <- cbsa$age1859 + cbsa$age60up\n",
    "cbsa$pr_adult_nohs <- cbsa$edlow / cbsa$age_pop\n",
    "m_pr_adult_nohs <- mean(cbsa$pr_adult_nohs, na.rm = TRUE)\n",
    "sd_pr_adult_nohs <- sd(cbsa$pr_adult_nohs, na.rm = TRUE)\n",
    "quantiles_pr_adult_nohs <- quantile(cbsa$pr_adult_nohs, na.rm = TRUE)"
   ]
  },
  {
   "cell_type": "markdown",
   "metadata": {},
   "source": [
    "**Table 2:** San Fransisco Neighborhood Characteristics  \n",
    "\n",
    "|                         |                   |                   | ||||\n",
    "|-------------------------|-------------------|-------------------| ||||\n",
    "| *Number of neighborhoods*|                   |     Count | ||||\n",
    "|                           |                   |    980          | ||||\n",
    "|                         |                   |                   | ||||\n",
    "| *Neighborhood Proportions*  |                   |  Mean (SD)    | ||||\n",
    "|                         | White             |   .45 (.25)       | ||||\n",
    "|                         | Black             |    .19   (.12)    | | |||\n",
    "|                         | Hispanic          |    .21 (.17)      | ||||\n",
    "|                         | Asian             |      .24 (.18)    | ||||\n",
    "|                         |                   |                   | ||||\n",
    "|                         | Poverty           |     .10 (.09)     | ||||\n",
    "|                         | Single Parenthood |      .09 (.07)    | ||||\n",
    "|                         | 18+ No High School|       .11 (.10)   | ||||\n",
    "|                         |                   |                   | ||||\n",
    "| *Neighborhood Quantiles*|                   |          Min      |  25% | Median | 75% | max |\n",
    "|                         | White             |         .02       |  .23 | .45    |  .68| .94 |\n",
    "|                         | Black             |          .00      | .02 | .04|.13|.70|\n",
    "|                         | Hispanic          |         .01       |.08|.15|.28|.91|\n",
    "|                         | Asian             |                .01|.10|.17|.35|.90|\n",
    "|                         |                   |                | ||||\n",
    "|                         | Poverty           |               .00 |.04 |.07|.14|.65|   \n",
    "|                         | Single Parenthood |        .00        |.04 |.07|.12|.50|\n",
    "|                         | 18+ No High School|           .00     |.03 |.08|.16|.57|\n"
   ]
  },
  {
   "cell_type": "code",
   "execution_count": 6,
   "metadata": {},
   "outputs": [
    {
     "name": "stderr",
     "output_type": "stream",
     "text": [
      "Warning message in segdataclean(x):\n",
      "\"following lines were deleted because of null population: 112, 335, 524, 574, 712, 775, 783\"Warning message in segdataclean(x):\n",
      "\"following lines were deleted because of null population: 112, 335, 524, 564, 574, 712, 775, 783\"Warning message in segdataclean(x):\n",
      "\"following lines were deleted because of null population: 112, 335, 524, 564, 574, 712, 775, 783\"Warning message in segdataclean(x):\n",
      "\"following lines were deleted because of null population: 112, 335, 524, 574, 712, 775, 783\""
     ]
    }
   ],
   "source": [
    "race_subset <- cbsa %>% select(nwhite, nblack, nasian, nhisp)\n",
    "race_exposure <- xPy(as.matrix(race_subset), exact = T)\n",
    "pov_subset <- cbsa %>% select(povno, povyes)\n",
    "pov_exposure <- xPy(as.matrix(pov_subset), exact = T)\n",
    "par_subset <- cbsa %>% select(nokids, twoparent, singparent)\n",
    "par_exposure <- xPy(as.matrix(par_subset), exact = T)\n",
    "cbsa$hsplus <- cbsa$edhs + cbsa$edsome + cbsa$edba\n",
    "\n",
    "ed_subset <- cbsa %>% select(edlow, hsplus)\n",
    "ed_exposure <- xPy(as.matrix(ed_subset), exact = T)"
   ]
  },
  {
   "cell_type": "markdown",
   "metadata": {},
   "source": [
    "**Table 3:** San Fransisco CBSA Exposure Indices\n",
    "\n",
    "| Comparison | Demominator | Exposure Value | \n",
    "|------------|-------------|----------------|\n",
    "| White - Black | White, Black Asian, Hispanic | 0.06 |\n",
    "| White - Asian | White, Black Asian, Hispanic | 0.20 |\n",
    "| White - Hispanic | White, Black Asian, Hispanic | 0.16 |\n",
    "|                  |                              |      |\n",
    "| Poor - Non-poor  |  Poor, Non-Poor              | 0.09 |\n",
    "| One Parent - Two Parent | One Parent, Two Parent, No Kids | 0.23  |\n",
    "|     High School or More - Low Educated| Low Educated, Sum of Higher Ed| 0.11  |"
   ]
  },
  {
   "cell_type": "markdown",
   "metadata": {},
   "source": [
    "## Question 2"
   ]
  },
  {
   "cell_type": "code",
   "execution_count": 9,
   "metadata": {},
   "outputs": [
    {
     "data": {
      "image/png": "[encoded data removed]",
      "text/plain": [
       "plot without title"
      ]
     },
     "metadata": {},
     "output_type": "display_data"
    }
   ],
   "source": [
    "cbsa_long <- cbsa %>% gather(key='ethnicity', value='count', nwhite, nblack, nasian, nhisp)\n",
    "\n",
    "ggplot(data = cbsa_long, aes(count)) +\n",
    "    geom_histogram(binwidth = 100) +\n",
    "    facet_grid(ethnicity~.)"
   ]
  },
  {
   "cell_type": "code",
   "execution_count": 7,
   "metadata": {},
   "outputs": [
    {
     "data": {
      "image/png": "[encoded data removed]",
      "text/plain": [
       "plot without title"
      ]
     },
     "metadata": {},
     "output_type": "display_data"
    }
   ],
   "source": [
    "cbsa_long2 <- cbsa %>% gather(key='pov_status', value='count', povno, povyes)\n",
    "\n",
    "ggplot(data = cbsa_long2, aes(count)) +\n",
    "    geom_histogram(binwidth = 100) +\n",
    "    facet_grid(pov_status~.)"
   ]
  },
  {
   "cell_type": "code",
   "execution_count": 14,
   "metadata": {},
   "outputs": [
    {
     "ename": "ERROR",
     "evalue": "Error in library(xlsx): there is no package called 'xlsx'\n",
     "output_type": "error",
     "traceback": [
      "Error in library(xlsx): there is no package called 'xlsx'\nTraceback:\n",
      "1. library(xlsx)"
     ]
    }
   ],
   "source": [
    "write_csv(cbsa, 'cbsa_sf.csv')"
   ]
  },
  {
   "cell_type": "markdown",
   "metadata": {},
   "source": [
    "## Question 3\n",
    "\n",
    "This step had me stuck for a while. The R environment I'm working in doesn't have a .xls writer installed, so I wrote my cbsa dataframe to CSV. In doing so, I lost the leading zeros from the tract variable and the tract variable was converted to a numeric type. Took me a while to identify these issues to get the join working in Arcmap. After that, things went pretty quickly.  "
   ]
  },
  {
   "cell_type": "markdown",
   "metadata": {},
   "source": [
    "## Question 4\n",
    "\n",
    "#### Map 1\n",
    "\n",
    "For the first map I just mapped proportion of blacks in each tract. I set the categories to quantile. I don't love the quantiles because the 75-100 range contains values of proportion blacks from as low as 15%. Still, the resulting map is interesting, so see that regions with proportionally more black people tend to be clustered in the more dense central areas. This fits the common intuition/stereotype that I might have expected. In retrospect I wish I could have picked a CBSA about which I had more direct knowledge, as it could have led me to make more interesting maps. Unfortunately I don't really have much direct knowledge of any US regions.  \n",
    "\n",
    "   ![map1](arcmap/m1.png)\n",
    "\n",
    "#### Map 2\n",
    "\n",
    "For the second plot I mapped poverty rates into ten quantile-based categories. At first I tried to use equal intervals, but this, interestingly, made almost the entire map look white-pink, i.e. not very poor. In some ways, equal intervals provide a more realistic sense of the conditions of the CBSA. When I use quantiles, I am essentially forcing some proportion of tracts to appear dark, or look very poor. In fact, these dark segments range in poverty rates from 22 - 65%. Probably the most honest and informative map would use some theoretically meaningful cutoff and simply map tracts as being within or beyond that cutoff.\n",
    "\n",
    "   ![map2](arcmap/m2.png)\n"
   ]
  }
 ],
 "metadata": {
  "kernelspec": {
   "display_name": "R",
   "language": "R",
   "name": "ir"
  },
  "language_info": {
   "codemirror_mode": "r",
   "file_extension": ".r",
   "mimetype": "text/x-r-source",
   "name": "R",
   "pygments_lexer": "r",
   "version": "3.6.1"
  }
 },
 "nbformat": 4,
 "nbformat_minor": 4
}
