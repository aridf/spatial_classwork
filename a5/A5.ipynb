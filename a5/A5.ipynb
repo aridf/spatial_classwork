{
 "cells": [
  {
   "cell_type": "code",
   "execution_count": 38,
   "metadata": {},
   "outputs": [],
   "source": [
    "options(warn = -1)\n",
    "\n",
    "library(haven)\n",
    "library(tidyverse)\n",
    "library(OasisR)\n",
    "\n",
    "options(warn = 0)"
   ]
  },
  {
   "cell_type": "code",
   "execution_count": 15,
   "metadata": {},
   "outputs": [
    {
     "data": {
      "text/html": [
       "<table>\n",
       "<thead><tr><th scope=col>bgroup10</th><th scope=col>urban</th><th scope=col>fams</th><th scope=col>fpov</th><th scope=col>fnopov</th><th scope=col>fpovkids</th><th scope=col>fnopovkids</th></tr></thead>\n",
       "<tbody>\n",
       "\t<tr><td>361090001001</td><td>1           </td><td>136         </td><td> 0          </td><td>136         </td><td>0           </td><td>45          </td></tr>\n",
       "\t<tr><td>361090002001</td><td>1           </td><td> 15         </td><td> 0          </td><td> 15         </td><td>0           </td><td> 0          </td></tr>\n",
       "\t<tr><td>361090002002</td><td>1           </td><td> 19         </td><td> 0          </td><td> 19         </td><td>0           </td><td> 0          </td></tr>\n",
       "\t<tr><td>361090002003</td><td>1           </td><td> 18         </td><td> 0          </td><td> 18         </td><td>0           </td><td> 5          </td></tr>\n",
       "\t<tr><td>361090003001</td><td>1           </td><td> 33         </td><td> 2          </td><td> 31         </td><td>0           </td><td> 0          </td></tr>\n",
       "\t<tr><td>361090004001</td><td>1           </td><td>103         </td><td>10          </td><td> 93         </td><td>5           </td><td>60          </td></tr>\n",
       "</tbody>\n",
       "</table>\n"
      ],
      "text/latex": [
       "\\begin{tabular}{r|lllllll}\n",
       " bgroup10 & urban & fams & fpov & fnopov & fpovkids & fnopovkids\\\\\n",
       "\\hline\n",
       "\t 361090001001 & 1            & 136          &  0           & 136          & 0            & 45          \\\\\n",
       "\t 361090002001 & 1            &  15          &  0           &  15          & 0            &  0          \\\\\n",
       "\t 361090002002 & 1            &  19          &  0           &  19          & 0            &  0          \\\\\n",
       "\t 361090002003 & 1            &  18          &  0           &  18          & 0            &  5          \\\\\n",
       "\t 361090003001 & 1            &  33          &  2           &  31          & 0            &  0          \\\\\n",
       "\t 361090004001 & 1            & 103          & 10           &  93          & 5            & 60          \\\\\n",
       "\\end{tabular}\n"
      ],
      "text/markdown": [
       "\n",
       "| bgroup10 | urban | fams | fpov | fnopov | fpovkids | fnopovkids |\n",
       "|---|---|---|---|---|---|---|\n",
       "| 361090001001 | 1            | 136          |  0           | 136          | 0            | 45           |\n",
       "| 361090002001 | 1            |  15          |  0           |  15          | 0            |  0           |\n",
       "| 361090002002 | 1            |  19          |  0           |  19          | 0            |  0           |\n",
       "| 361090002003 | 1            |  18          |  0           |  18          | 0            |  5           |\n",
       "| 361090003001 | 1            |  33          |  2           |  31          | 0            |  0           |\n",
       "| 361090004001 | 1            | 103          | 10           |  93          | 5            | 60           |\n",
       "\n"
      ],
      "text/plain": [
       "  bgroup10     urban fams fpov fnopov fpovkids fnopovkids\n",
       "1 361090001001 1     136   0   136    0        45        \n",
       "2 361090002001 1      15   0    15    0         0        \n",
       "3 361090002002 1      19   0    19    0         0        \n",
       "4 361090002003 1      18   0    18    0         5        \n",
       "5 361090003001 1      33   2    31    0         0        \n",
       "6 361090004001 1     103  10    93    5        60        "
      ]
     },
     "metadata": {},
     "output_type": "display_data"
    }
   ],
   "source": [
    "df = read_dta('tomp_poverty.dta')\n",
    "head(df)"
   ]
  },
  {
   "cell_type": "markdown",
   "metadata": {},
   "source": [
    "### 1.A)"
   ]
  },
  {
   "cell_type": "code",
   "execution_count": 25,
   "metadata": {},
   "outputs": [
    {
     "data": {
      "text/html": [
       "<table>\n",
       "<thead><tr><th scope=col>urban</th><th scope=col>rate_fams</th></tr></thead>\n",
       "<tbody>\n",
       "\t<tr><td>0         </td><td>0.07894927</td></tr>\n",
       "\t<tr><td>1         </td><td>0.06230234</td></tr>\n",
       "</tbody>\n",
       "</table>\n"
      ],
      "text/latex": [
       "\\begin{tabular}{r|ll}\n",
       " urban & rate\\_fams\\\\\n",
       "\\hline\n",
       "\t 0          & 0.07894927\\\\\n",
       "\t 1          & 0.06230234\\\\\n",
       "\\end{tabular}\n"
      ],
      "text/markdown": [
       "\n",
       "| urban | rate_fams |\n",
       "|---|---|\n",
       "| 0          | 0.07894927 |\n",
       "| 1          | 0.06230234 |\n",
       "\n"
      ],
      "text/plain": [
       "  urban rate_fams \n",
       "1 0     0.07894927\n",
       "2 1     0.06230234"
      ]
     },
     "metadata": {},
     "output_type": "display_data"
    }
   ],
   "source": [
    "df %>% \n",
    "    group_by(urban) %>%\n",
    "    summarize('rate_fams' = sum(fpovkids)/sum(fams))"
   ]
  },
  {
   "cell_type": "markdown",
   "metadata": {},
   "source": [
    "In Tompkins County, poverty rates among children with families seem higher in urban areas. Given that almost all of the county population is located in the urban centre of Ithaca (I think), the absolute numbers probably show that the majority of all poverty occurs in urban areas. Let's check:"
   ]
  },
  {
   "cell_type": "code",
   "execution_count": 29,
   "metadata": {},
   "outputs": [
    {
     "data": {
      "text/html": [
       "<table>\n",
       "<thead><tr><th scope=col>urban</th><th scope=col>rate_fams</th></tr></thead>\n",
       "<tbody>\n",
       "\t<tr><td>0   </td><td>1094</td></tr>\n",
       "\t<tr><td>1   </td><td> 394</td></tr>\n",
       "</tbody>\n",
       "</table>\n"
      ],
      "text/latex": [
       "\\begin{tabular}{r|ll}\n",
       " urban & rate\\_fams\\\\\n",
       "\\hline\n",
       "\t 0    & 1094\\\\\n",
       "\t 1    &  394\\\\\n",
       "\\end{tabular}\n"
      ],
      "text/markdown": [
       "\n",
       "| urban | rate_fams |\n",
       "|---|---|\n",
       "| 0    | 1094 |\n",
       "| 1    |  394 |\n",
       "\n"
      ],
      "text/plain": [
       "  urban rate_fams\n",
       "1 0     1094     \n",
       "2 1      394     "
      ]
     },
     "metadata": {},
     "output_type": "display_data"
    }
   ],
   "source": [
    "df %>% \n",
    "    group_by(urban) %>%\n",
    "    summarize('rate_fams' = sum(fpovkids))"
   ]
  },
  {
   "cell_type": "markdown",
   "metadata": {},
   "source": [
    "If this is coded like I think it is, then the results sure tell a different story. Looks like TC is mostly a rural area, and the urban-rural divide may have little to do with poverty, at least among those with families. Let's quickly combine and check all families:"
   ]
  },
  {
   "cell_type": "code",
   "execution_count": 32,
   "metadata": {},
   "outputs": [
    {
     "data": {
      "text/html": [
       "<table>\n",
       "<thead><tr><th scope=col>urban</th><th scope=col>rate_all</th></tr></thead>\n",
       "<tbody>\n",
       "\t<tr><td>0         </td><td>0.09222775</td></tr>\n",
       "\t<tr><td>1         </td><td>0.09203036</td></tr>\n",
       "</tbody>\n",
       "</table>\n"
      ],
      "text/latex": [
       "\\begin{tabular}{r|ll}\n",
       " urban & rate\\_all\\\\\n",
       "\\hline\n",
       "\t 0          & 0.09222775\\\\\n",
       "\t 1          & 0.09203036\\\\\n",
       "\\end{tabular}\n"
      ],
      "text/markdown": [
       "\n",
       "| urban | rate_all |\n",
       "|---|---|\n",
       "| 0          | 0.09222775 |\n",
       "| 1          | 0.09203036 |\n",
       "\n"
      ],
      "text/plain": [
       "  urban rate_all  \n",
       "1 0     0.09222775\n",
       "2 1     0.09203036"
      ]
     },
     "metadata": {},
     "output_type": "display_data"
    }
   ],
   "source": [
    "df %>%\n",
    "    group_by(urban) %>%\n",
    "    summarize('rate_all'= sum(fpov)/sum(fams))"
   ]
  },
  {
   "cell_type": "markdown",
   "metadata": {},
   "source": [
    "Almost no difference when we look across families with and without children"
   ]
  },
  {
   "cell_type": "markdown",
   "metadata": {},
   "source": [
    "### 1.b)"
   ]
  },
  {
   "cell_type": "code",
   "execution_count": 56,
   "metadata": {},
   "outputs": [
    {
     "name": "stderr",
     "output_type": "stream",
     "text": [
      "Warning message in segdataclean(x):\n",
      "\"following lines were deleted because of null population: 2, 3, 5, 26, 28\""
     ]
    },
    {
     "data": {
      "text/html": [
       "0.1953"
      ],
      "text/latex": [
       "0.1953"
      ],
      "text/markdown": [
       "0.1953"
      ],
      "text/plain": [
       "[1] 0.1953"
      ]
     },
     "metadata": {},
     "output_type": "display_data"
    }
   ],
   "source": [
    "m <- df %>% select(fpovkids, fnopovkids)\n",
    "Eta2 <- Eta2(m)\n",
    "Eta2[1]"
   ]
  },
  {
   "cell_type": "markdown",
   "metadata": {},
   "source": [
    "This number value of eta-squared seems relatively low. The poor and non-poor live together in harmony."
   ]
  }
 ],
 "metadata": {
  "kernelspec": {
   "display_name": "R",
   "language": "R",
   "name": "ir"
  },
  "language_info": {
   "codemirror_mode": "r",
   "file_extension": ".r",
   "mimetype": "text/x-r-source",
   "name": "R",
   "pygments_lexer": "r",
   "version": "3.6.1"
  }
 },
 "nbformat": 4,
 "nbformat_minor": 4
}
